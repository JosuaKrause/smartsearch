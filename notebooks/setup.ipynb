{
 "cells": [
  {
   "cell_type": "code",
   "execution_count": 1,
   "id": "63b0332e-1083-4d1c-a0ff-cab1b13da291",
   "metadata": {},
   "outputs": [],
   "source": [
    "import os\n",
    "import json\n",
    "import contextlib\n",
    "\n",
    "import sqlalchemy as sa\n",
    "from sqlalchemy.orm import sessionmaker\n",
    "\n",
    "import pandas as pd\n",
    "import numpy as np\n",
    "\n",
    "import re\n",
    "import urllib.parse"
   ]
  },
  {
   "cell_type": "code",
   "execution_count": 2,
   "id": "135b14c9-d814-4144-8554-5fd8a4dca6cc",
   "metadata": {},
   "outputs": [],
   "source": [
    "from html import unescape\n",
    "import unicodedata"
   ]
  },
  {
   "cell_type": "code",
   "execution_count": 3,
   "id": "1c15d907-4446-4dbf-8b68-944753bcc77d",
   "metadata": {},
   "outputs": [],
   "source": [
    "import spacy\n",
    "from spacy.language import Language\n",
    "\n",
    "from spacy_language_detection import LanguageDetector"
   ]
  },
  {
   "cell_type": "code",
   "execution_count": 4,
   "id": "da9feee3-0f94-441e-b9c6-58e78479b470",
   "metadata": {},
   "outputs": [],
   "source": [
    "CONFIG_PATH = \"config.json\"\n",
    "OUT_FILE = \"traintest.pq\"\n",
    "VERBOSE = False"
   ]
  },
  {
   "cell_type": "code",
   "execution_count": 5,
   "id": "a5359b4e-8ddf-491c-8f3c-e7418d1a8da5",
   "metadata": {},
   "outputs": [],
   "source": [
    "CONFIG = None\n",
    "ENGINES = {}\n",
    "TABLES = {}\n",
    "BINDS = {}\n",
    "SESSION = None\n",
    "\n",
    "\n",
    "def config_template():\n",
    "    default_conn = {\n",
    "        \"dialect\": \"postgresql\",\n",
    "        \"host\": \"localhost\",\n",
    "        \"port\": 5432,\n",
    "        \"dbname\": \"INVALID\",\n",
    "        \"schema\": \"public\",\n",
    "        \"user\": \"INVALID\",\n",
    "        \"passwd\": \"INVALID\",\n",
    "    }\n",
    "    return {\n",
    "        \"dbs\": {\n",
    "            \"login\": default_conn.copy(),\n",
    "            \"sm\": default_conn.copy(),\n",
    "            \"exp\": default_conn.copy(),\n",
    "            \"ap\": default_conn.copy(),\n",
    "            \"blogs\": default_conn.copy(),\n",
    "        }\n",
    "    }\n",
    "\n",
    "\n",
    "def get_config():\n",
    "    global CONFIG\n",
    "    \n",
    "    if CONFIG is not None:\n",
    "        return CONFIG\n",
    "    if not os.path.exists(CONFIG_PATH):\n",
    "        with open(CONFIG_PATH, \"w\") as fout:\n",
    "            print(json.dumps(config_template(), indent=4, sort_keys=True), file=fout)\n",
    "        raise ValueError(\n",
    "            f\"config file missing. new file was created at '{CONFIG_PATH}'. \"\n",
    "            \"please correct values in file and run again\")\n",
    "    with open(CONFIG_PATH, \"r\") as fin:\n",
    "        CONFIG = json.load(fin)\n",
    "    return CONFIG\n",
    "\n",
    "\n",
    "def get_engine(dbname):\n",
    "    res = ENGINES.get(dbname)\n",
    "    if res is not None:\n",
    "        return res\n",
    "    db = get_config()[\"dbs\"][dbname]\n",
    "    user = urllib.parse.quote_plus(db[\"user\"])\n",
    "    passwd = urllib.parse.quote_plus(db[\"passwd\"])\n",
    "    engine = sa.create_engine(\n",
    "        f\"{db['dialect']}://{user}:{passwd}@{db['host']}:{db['port']}/{db['dbname']}\",\n",
    "        echo=VERBOSE)\n",
    "    engine = engine.execution_options(\n",
    "        schema_translate_map={None: db['schema']})\n",
    "    res = engine, sa.MetaData()\n",
    "    ENGINES[dbname] = res\n",
    "    return res\n",
    "\n",
    "\n",
    "def get_table(dbname, tablename):\n",
    "    global SESSION\n",
    "    \n",
    "    key = (dbname, tablename)\n",
    "    res = TABLES.get(key)\n",
    "    if res is not None:\n",
    "        return res\n",
    "    SESSION = None\n",
    "    engine, metadata = get_engine(dbname)\n",
    "    res = sa.Table(\n",
    "        tablename,\n",
    "        metadata,\n",
    "        autoload_with=engine)\n",
    "    TABLES[key] = res\n",
    "    BINDS[res] = engine\n",
    "    return res\n",
    "\n",
    "\n",
    "@contextlib.contextmanager\n",
    "def get_session():\n",
    "    global SESSION\n",
    "    \n",
    "    session = SESSION\n",
    "    if session is None:\n",
    "        session = sessionmaker()\n",
    "        session.configure(binds=BINDS)\n",
    "        SESSION = session\n",
    "    with session() as res:\n",
    "        yield res"
   ]
  },
  {
   "cell_type": "code",
   "execution_count": 6,
   "id": "2e5ffb71-2b95-4928-81ae-f9ffb28d4420",
   "metadata": {},
   "outputs": [],
   "source": [
    "def clean(text: str) -> str:\n",
    "    text = text.strip()\n",
    "    while True:\n",
    "        prev_text = text\n",
    "        text = unescape(text)\n",
    "        if prev_text == text:\n",
    "            break\n",
    "    text = unicodedata.normalize(\"NFKC\", text)\n",
    "    return re.sub(\"\\n\\n\\n+\", \"\\n\\n\", re.sub(\"[ \\t]+\", \" \", re.sub(\"\\n[ \\t]+\", \"\\n\", re.sub(\"\\n\\n+\", \"\\n\", re.sub(\"\\r\", \"\\n\", text)))))\n",
    "\n",
    "def strip_html(text: str) -> str:\n",
    "    return re.sub(r\"<(?:\\\"[^\\\"]*\\\"['\\\"]*|'[^']*'['\\\"]*|[^'\\\">])+>\", \"\", re.sub(r\"<br\\s*/?\\s*>\", \"\\n\", text.strip()))"
   ]
  },
  {
   "cell_type": "code",
   "execution_count": 7,
   "id": "34cdfe83-1a0b-42ac-aeb3-d36d7dcd7d43",
   "metadata": {},
   "outputs": [
    {
     "data": {
      "text/plain": [
       "'abcdef\\nghifoo\\nbarlm'"
      ]
     },
     "execution_count": 7,
     "metadata": {},
     "output_type": "execute_result"
    }
   ],
   "source": [
    "strip_html(\"abc<b>def<br>ghi<a href=\\\"foo\\\" c =  '1    2   3   '      >foo<br / >bar</b>lm<   /   a >\")"
   ]
  },
  {
   "cell_type": "code",
   "execution_count": 8,
   "id": "33dd7461-9ee2-4411-b1ca-6d47e7902807",
   "metadata": {},
   "outputs": [],
   "source": [
    "# global tables\n",
    "t_tags = get_table(\"login\", \"tags\")\n",
    "t_users = get_table(\"login\", \"users\")\n",
    "\n",
    "# solution mapping tables\n",
    "t_sm_pads = get_table(\"sm\", \"pads\")\n",
    "t_sm_tagging = get_table(\"sm\", \"tagging\")\n",
    "\n",
    "# action plan tables\n",
    "t_ap_pads = get_table(\"ap\", \"pads\")\n",
    "t_ap_tagging = get_table(\"ap\", \"tagging\")\n",
    "\n",
    "# experiments tables\n",
    "t_exp_pads = get_table(\"exp\", \"pads\")\n",
    "t_exp_tagging = get_table(\"exp\", \"tagging\")"
   ]
  },
  {
   "cell_type": "code",
   "execution_count": 9,
   "id": "ebef373e-ee4a-48b6-b786-04286fcc8d58",
   "metadata": {},
   "outputs": [
    {
     "name": "stdout",
     "output_type": "stream",
     "text": [
      "3189\n"
     ]
    }
   ],
   "source": [
    "with get_session() as session:\n",
    "    stmt = sa.select(sa.func.count(t_sm_pads.c.id))\n",
    "    stmt = stmt.where(t_sm_pads.c.status >= 2)\n",
    "    sm_pad_count = int(session.execute(stmt).one()[0])\n",
    "    print(sm_pad_count)"
   ]
  },
  {
   "cell_type": "code",
   "execution_count": 10,
   "id": "d79b96db-6152-4e1a-aa44-aa970d0d83ca",
   "metadata": {},
   "outputs": [
    {
     "name": "stdout",
     "output_type": "stream",
     "text": [
      "863\n"
     ]
    }
   ],
   "source": [
    "with get_session() as session:\n",
    "    stmt = sa.select(sa.func.count(t_ap_pads.c.id))\n",
    "    stmt = stmt.where(t_ap_pads.c.status >= 2)\n",
    "    ap_pad_count = int(session.execute(stmt).one()[0])\n",
    "    print(ap_pad_count)"
   ]
  },
  {
   "cell_type": "code",
   "execution_count": 11,
   "id": "a1e5c049-b42d-424c-a141-770e3dd41652",
   "metadata": {},
   "outputs": [
    {
     "name": "stdout",
     "output_type": "stream",
     "text": [
      "202\n"
     ]
    }
   ],
   "source": [
    "with get_session() as session:\n",
    "    stmt = sa.select(sa.func.count(t_exp_pads.c.id))\n",
    "    stmt = stmt.where(t_exp_pads.c.status >= 2)\n",
    "    exp_pad_count = int(session.execute(stmt).one()[0])\n",
    "    print(exp_pad_count)"
   ]
  },
  {
   "cell_type": "code",
   "execution_count": 12,
   "id": "c6dd4640-b5d5-4eb2-9697-7018ca2973b7",
   "metadata": {},
   "outputs": [],
   "source": [
    "tags = {}\n",
    "with get_session() as session:\n",
    "    stmt = sa.select(t_tags.c.id, t_tags.c.name, t_tags.c.type)\n",
    "    for row in session.execute(stmt):\n",
    "        tags[row[0]] = (row[1], row[2])"
   ]
  },
  {
   "cell_type": "code",
   "execution_count": 13,
   "id": "160072e3-7181-4e5c-9f9e-a993080e0c46",
   "metadata": {},
   "outputs": [],
   "source": [
    "def get_lang_detector(nlp, name):\n",
    "    return LanguageDetector(seed=42)\n",
    "\n",
    "spacy_nlp_model = spacy.load(\"en_core_web_sm\")\n",
    "Language.factory(\"language_detector\", func=get_lang_detector)\n",
    "spacy_nlp_model.add_pipe(\"language_detector\", last=True)\n",
    "\n",
    "def get_lang(doc):\n",
    "    mdoc = spacy_nlp_model(doc)\n",
    "    return mdoc._.language"
   ]
  },
  {
   "cell_type": "code",
   "execution_count": 14,
   "id": "e6c77090-076a-44a0-8081-038428bbb8f8",
   "metadata": {
    "tags": []
   },
   "outputs": [
    {
     "name": "stdout",
     "output_type": "stream",
     "text": [
      "=TITLE=================\n",
      "The power of faith facing of the weakness of the means of a young self-taught innovator\n",
      "=TEXT==================\n",
      "The power of faith facing of the weakness of the means of a young self-taught innovator\n",
      "Mamadou Saliou Diallo \n",
      "Whatsapp Via Moussa CAMARA +224624976073\n",
      "NO\n",
      "In a village where everyone thinks that not going far in their studies is an end in itself, where relentlessness and dedication are not considered as real arguments to support a citizen in his project, this is the decor in which evolves Mamadou Saliou Diallo, an autodidact whose level of study is of the 5th year of primary school; is developing a pico-dam to supply electricity to surrounding villages.\n",
      "In the process of developing the energy sector to solve the power problem in Guinea, the government has electrified major cities, prefectures, and sub-prefectures. However, it emerges that despite these enormous efforts, shortcomings remain. So to provide a quick and low-cost solution, our friend “Actor's Name” gave himself body and soul to put together a micro-dam which for him will serve as a quick answer to the question of coverage and thus, influence positively on the lifestyle of local residents.\n",
      "To be updated soon\n",
      "TRL7\n",
      "On prototyping phase and has very good feedback (Picture will be soon updated)\n",
      "Not yet\n",
      "NO\n",
      "https://www.gn.undp.org/content/guinea/fr/home/blog/2021/2022/mamadou-saliou-diallo--le-genie-en-electricite-de-timbi-madina-.html \n",
      "DIY / open source\n",
      "Yes\n",
      "Prototype\n",
      "=TAGS==================\n",
      "waste reduction\n",
      "youth empowerment\n",
      "affordable electronic devices\n",
      "hidroelectric\n",
      "jobs\n",
      "=COUNTRY===============\n",
      "GIN\n",
      "=LANGUAGE==============\n",
      "{'language': 'en', 'score': 0.9999960812050601}\n",
      "\n",
      "=TITLE=================\n",
      "local three lines power agregetor\n",
      "=TEXT==================\n",
      "local three lines power agregetor\n",
      "DIALLO Thierno Mamadou N'Danè\n",
      "Via Moussa CAMARA +224624976073\n",
      "NO\n",
      "In most of the area sides in conakry, the management of electricity is not well done, many sectors receive les power than those located closer to the central point. facing the need of good power level for domestical electrical usage, poeple are paying for more than one line so that they could use the one with the best level. Our friend N'Danè as illustrated here on the pics, has created an agregetor able to associate three inputs power levels and collect from the output the required level according to the usage needs. \n",
      "20 000 000 GNF\n",
      "TRL9\n",
      "Good feedback\n",
      "NO\n",
      "Budget for coception\n",
      "https://undphqexoacclabsapp01.azurewebsites.net/fr/edit/pad?id=5149\n",
      "DIY / open source\n",
      "Yes\n",
      "Product\n",
      "Advance order has to be given\n",
      "=TAGS==================\n",
      "electricity\n",
      "self-employment\n",
      "electronic waste\n",
      "epower agregetor\n",
      "=COUNTRY===============\n",
      "GIN\n",
      "=LANGUAGE==============\n",
      "{'language': 'en', 'score': 0.9999972594778758}\n",
      "\n",
      "=TITLE=================\n",
      "Teflon REGULATOR\n",
      "=TEXT==================\n",
      "Teflon REGULATOR\n",
      "The TEFLON or PTFE is stable and nontoxic at lower temperatures, it begins to deteriorate at temperatures of about 260 °C (500 °F), it decomposes above 350 °C (662 °F), and pyloris occurs at temperatures above 400 °C (752 °F).\n",
      "=TAGS==================\n",
      "energy\n",
      "youth and unemployment\n",
      "affordable electronic devices\n",
      "=COUNTRY===============\n",
      "GIN\n",
      "=LANGUAGE==============\n",
      "{'language': 'en', 'score': 0.9999972143286056}\n",
      "\n"
     ]
    }
   ],
   "source": [
    "with get_session() as session:\n",
    "    stmt = sa.select(t_sm_pads.c.id, t_sm_pads.c.title, t_sm_pads.c.sections, t_sm_pads.c.full_text, t_sm_pads.c.owner)\n",
    "    stmt = stmt.where(t_sm_pads.c.status >= 2)\n",
    "    stmt = stmt.limit(3)\n",
    "    for row in session.execute(stmt):\n",
    "        ftext = clean(strip_html(row[3]))\n",
    "        print(\"=TITLE=================\")\n",
    "        print(clean(row[1]))\n",
    "        print(\"=TEXT==================\")\n",
    "        print(ftext)\n",
    "        print(\"=TAGS==================\")\n",
    "        tstmt = sa.select(t_sm_tagging.c.tag_id)\n",
    "        tstmt = tstmt.where(t_sm_tagging.c.pad == row[0])\n",
    "        for tag in session.execute(tstmt):\n",
    "            t_name, t_type = tags[tag[0]]\n",
    "            if t_type == \"thematic_areas\":\n",
    "                print(t_name)\n",
    "        print(\"=COUNTRY===============\")\n",
    "        owner_uuid = row[4]\n",
    "        cstmt = sa.select(t_users.c.iso3).where(t_users.c.uuid == owner_uuid)\n",
    "        print(session.execute(cstmt).scalar_one())\n",
    "        print(\"=LANGUAGE==============\")\n",
    "        print(get_lang(ftext))\n",
    "        print()"
   ]
  },
  {
   "cell_type": "code",
   "execution_count": 15,
   "id": "e3e39811-bf70-4a10-a2a4-ff32a24c848e",
   "metadata": {
    "tags": []
   },
   "outputs": [
    {
     "name": "stdout",
     "output_type": "stream",
     "text": [
      "8.87% 283 circular economy (thematic_areas)\n",
      "7.37% 235 agriculture (thematic_areas)\n",
      "6.27% 200 waste management (thematic_areas)\n",
      "6.24% 199 covid-19 response (thematic_areas)\n",
      "5.64% 180 innovation (thematic_areas)\n",
      "5.30% 169 health (thematic_areas)\n",
      "4.83% 154 recycling (thematic_areas)\n",
      "4.74% 151 environment friendly (thematic_areas)\n",
      "4.48% 143 youth (thematic_areas)\n",
      "4.45% 142 entrepreneurship (thematic_areas)\n",
      "\n",
      "38.07% 1214 Sustainable cities and communities (sdgs)\n",
      "32.52% 1037 Responsible consumption and production (sdgs)\n",
      "26.72% 852 Decent work and economic growth (sdgs)\n",
      "26.72% 852 Industry, innovation and infrastructure (sdgs)\n",
      "24.96% 796 Climate action (sdgs)\n",
      "23.02% 734 Good health and well-being (sdgs)\n",
      "16.62% 530 Affordable and clean energy (sdgs)\n",
      "15.24% 486 No poverty (sdgs)\n",
      "14.21% 453 Zero hunger (sdgs)\n",
      "13.26% 423 Reduced innequalities (sdgs)\n",
      "\n"
     ]
    }
   ],
   "source": [
    "sm_tag_counts = {}\n",
    "with get_session() as session:\n",
    "    stmt = sa.select(t_sm_tagging.c.tag_id, sa.func.count(t_sm_tagging.c.tag_id))\n",
    "    stmt = stmt.group_by(t_sm_tagging.c.tag_id).order_by(sa.func.count(t_sm_tagging.c.tag_id).desc())\n",
    "    for theme in [True, False]:\n",
    "        print_count = 10\n",
    "        for row in session.execute(stmt):\n",
    "            t_name, t_type = tags[row[0]]\n",
    "            if (t_type == \"thematic_areas\") != theme:\n",
    "                continue\n",
    "            if print_count > 0:\n",
    "                print(f\"{row[1] / sm_pad_count * 100.0:.2f}% {row[1]} {t_name} ({t_type})\")\n",
    "                print_count -= 1\n",
    "            sm_tag_counts[t_name] = int(row[1])\n",
    "        print()"
   ]
  },
  {
   "cell_type": "code",
   "execution_count": 16,
   "id": "54224fd8-faa2-4485-98da-d90ed9c16770",
   "metadata": {
    "tags": []
   },
   "outputs": [
    {
     "name": "stdout",
     "output_type": "stream",
     "text": [
      "4.40% 38 circular economy (thematic_areas)\n",
      "3.71% 32 waste management (thematic_areas)\n",
      "3.48% 30 co-creation (thematic_areas)\n",
      "3.24% 28 behavioral insights (thematic_areas)\n",
      "3.24% 28 community empowerment (thematic_areas)\n",
      "3.13% 27 digital transformation (thematic_areas)\n",
      "3.13% 27 climate change (thematic_areas)\n",
      "3.13% 27 youth and unemployment (thematic_areas)\n",
      "3.01% 26 public sector innovation (thematic_areas)\n",
      "2.78% 24 behavioral change (thematic_areas)\n",
      "\n",
      "41.71% 360 Co-creation (methods)\n",
      "40.09% 346 Collective Intelligence (methods)\n",
      "34.41% 297 Solutions Mapping (methods)\n",
      "30.36% 262 focus group (datasources)\n",
      "27.93% 241 Prototyping (methods)\n",
      "27.35% 236 surveys (datasources)\n",
      "26.88% 232 System Thinking (methods)\n",
      "26.77% 231 Decent work and economic growth (sdgs)\n",
      "25.96% 224 Sensemaking (methods)\n",
      "25.72% 222 direct interviews (datasources)\n",
      "\n"
     ]
    }
   ],
   "source": [
    "ap_tag_counts = {}\n",
    "with get_session() as session:\n",
    "    stmt = sa.select(t_ap_tagging.c.tag_id, sa.func.count(t_ap_tagging.c.tag_id))\n",
    "    stmt = stmt.group_by(t_ap_tagging.c.tag_id).order_by(sa.func.count(t_ap_tagging.c.tag_id).desc())\n",
    "    for theme in [True, False]:\n",
    "        print_count = 10\n",
    "        for row in session.execute(stmt):\n",
    "            t_name, t_type = tags[row[0]]\n",
    "            if (t_type == \"thematic_areas\") != theme:\n",
    "                continue\n",
    "            if print_count > 0:\n",
    "                print(f\"{row[1] / ap_pad_count * 100.0:.2f}% {row[1]} {t_name} ({t_type})\")\n",
    "                print_count -= 1\n",
    "            ap_tag_counts[t_name] = int(row[1])\n",
    "        print()"
   ]
  },
  {
   "cell_type": "code",
   "execution_count": 17,
   "id": "0b999374-50bc-421c-b7b9-3776690340e9",
   "metadata": {
    "tags": []
   },
   "outputs": [
    {
     "name": "stdout",
     "output_type": "stream",
     "text": [
      "10.89% 22 waste management (thematic_areas)\n",
      "6.44% 13 behavioral insights (thematic_areas)\n",
      "4.95% 10 access to information (thematic_areas)\n",
      "3.96% 8 access to basic services (thematic_areas)\n",
      "3.47% 7 public sector innovation (thematic_areas)\n",
      "3.47% 7 co-creation (thematic_areas)\n",
      "2.97% 6 behavioral change (thematic_areas)\n",
      "2.97% 6 knowledge management (thematic_areas)\n",
      "2.97% 6 employment (thematic_areas)\n",
      "2.48% 5 covid-19 response (thematic_areas)\n",
      "\n",
      "50.99% 103 Sustainable cities and communities (sdgs)\n",
      "39.60% 80 Partnerships for the goals (sdgs)\n",
      "37.62% 76 Climate action (sdgs)\n",
      "32.18% 65 Decent work and economic growth (sdgs)\n",
      "30.20% 61 Reduced innequalities (sdgs)\n",
      "26.73% 54 Industry, innovation and infrastructure (sdgs)\n",
      "20.79% 42 No poverty (sdgs)\n",
      "20.79% 42 Responsible consumption and production (sdgs)\n",
      "18.81% 38 Peace, justice and strong institutions (sdgs)\n",
      "16.34% 33 Good health and well-being (sdgs)\n",
      "\n"
     ]
    }
   ],
   "source": [
    "exp_tag_counts = {}\n",
    "with get_session() as session:\n",
    "    stmt = sa.select(t_exp_tagging.c.tag_id, sa.func.count(t_exp_tagging.c.tag_id))\n",
    "    stmt = stmt.group_by(t_exp_tagging.c.tag_id).order_by(sa.func.count(t_exp_tagging.c.tag_id).desc())\n",
    "    for theme in [True, False]:\n",
    "        print_count = 10\n",
    "        for row in session.execute(stmt):\n",
    "            t_name, t_type = tags[row[0]]\n",
    "            if (t_type == \"thematic_areas\") != theme:\n",
    "                continue\n",
    "            if print_count > 0:\n",
    "                print(f\"{row[1] / exp_pad_count * 100.0:.2f}% {row[1]} {t_name} ({t_type})\")\n",
    "                print_count -= 1\n",
    "            exp_tag_counts[t_name] = int(row[1])\n",
    "        print()"
   ]
  },
  {
   "cell_type": "code",
   "execution_count": 18,
   "id": "4f1f8ee9-294a-4802-881f-d0bc4178222d",
   "metadata": {
    "tags": []
   },
   "outputs": [
    {
     "data": {
      "text/plain": [
       "([(736, 'ocean'),\n",
       "  (747, 'formalising the informal'),\n",
       "  (757, 'productivity'),\n",
       "  (1278, 'flooding'),\n",
       "  (835, 'reducing gender inequalities'),\n",
       "  (839, 'cooperativism'),\n",
       "  (842, 'nutrition'),\n",
       "  (846, 'logistics'),\n",
       "  (850, 'transportation'),\n",
       "  (616, 'Acupuntura Urbana')],\n",
       " [(4048, 'social innovation platform'),\n",
       "  (4050, 'adolescents'),\n",
       "  (4061, 'impact investing'),\n",
       "  (4201, 'energy efficiency audits'),\n",
       "  (4203, 'households'),\n",
       "  (4259, 'digital government'),\n",
       "  (4204, 'thermal camera'),\n",
       "  (4261, 'digital payments'),\n",
       "  (4205, 'residential energy efficiency'),\n",
       "  (3257, 'epower agregetor')])"
      ]
     },
     "execution_count": 18,
     "metadata": {},
     "output_type": "execute_result"
    }
   ],
   "source": [
    "all_tags = [(tid, tname) for (tid, (tname, ttype)) in tags.items() if ttype == \"thematic_areas\"]\n",
    "all_tags[:10], all_tags[-10:]"
   ]
  },
  {
   "cell_type": "code",
   "execution_count": 19,
   "id": "5fcae094-4e19-458c-be73-106412b3ef52",
   "metadata": {},
   "outputs": [],
   "source": [
    "rng = np.random.default_rng(42)"
   ]
  },
  {
   "cell_type": "code",
   "execution_count": 20,
   "id": "543ca4cf-7eaa-420c-9694-d773f958fa71",
   "metadata": {},
   "outputs": [],
   "source": [
    "train_size = 1000\n",
    "test_size = 1000\n",
    "train_test_ixs = list(rng.choice(list(range(sm_pad_count)), train_size + test_size, replace=False))\n",
    "is_train = set(train_test_ixs[:train_size])\n",
    "is_test = set(train_test_ixs[train_size:])"
   ]
  },
  {
   "cell_type": "code",
   "execution_count": null,
   "id": "17b56a5a-fa8a-4834-833d-c1f1ee07029d",
   "metadata": {
    "tags": []
   },
   "outputs": [],
   "source": [
    "content = {\n",
    "    \"id\": [],\n",
    "    \"stage\": [],\n",
    "    \"db\": [],\n",
    "    \"country\": [],\n",
    "    \"title\": [],\n",
    "    \"text\": [],\n",
    "    \"lang\": [],\n",
    "}\n",
    "ctags = {}\n",
    "ctagnames = []\n",
    "for (tag_id, tag_name) in all_tags:\n",
    "    col_name = f\"tag_{tag_name}\"\n",
    "    ctagnames.append(col_name)\n",
    "    ctags[tag_id] = col_name\n",
    "    content[col_name] = []\n",
    "tables = [\n",
    "    (\"sm\", t_sm_pads, t_sm_tagging),\n",
    "    (\"ap\", t_ap_pads, t_ap_tagging),\n",
    "    (\"exp\", t_exp_pads, t_exp_tagging),\n",
    "]\n",
    "country_cache = {}\n",
    "with get_session() as session:\n",
    "    for (t_name, t_pads, t_tagging) in tables:\n",
    "        stmt = sa.select(t_pads.c.id, t_pads.c.title, t_pads.c.full_text, t_pads.c.owner)\n",
    "        stmt = stmt.where(t_pads.c.status >= 2)\n",
    "        cur_ix = 0\n",
    "        for row in session.execute(stmt):\n",
    "            cur_ix += 1\n",
    "            body = clean(strip_html(row[2]))\n",
    "            pad_id = row[0]\n",
    "            info = {\"id\": f\"{pad_id}\", \"db\": f\"{t_name}\"}\n",
    "            if len(body) <= 80:\n",
    "                print(f\"short body ({len(body)}). skipping... [{info}]: {body}\")\n",
    "                continue\n",
    "            if t_name == \"sm\":\n",
    "                stage = \"validation\"\n",
    "                if cur_ix in is_train:\n",
    "                    stage = \"train\"\n",
    "                if cur_ix in is_test:\n",
    "                    stage = \"test\"\n",
    "            else:\n",
    "                stage = \"validation\"\n",
    "            owner_uuid = row[3]\n",
    "            country = country_cache.get(owner_uuid)\n",
    "            if country is None:\n",
    "                cstmt = sa.select(t_users.c.iso3).where(t_users.c.uuid == owner_uuid)\n",
    "                country = session.execute(cstmt).scalar_one()\n",
    "                # print(f\"discovered new country: {country}\")\n",
    "                country_cache[owner_uuid] = country\n",
    "            content[\"country\"].append(country)\n",
    "            content[\"id\"].append(pad_id)\n",
    "            content[\"stage\"].append(stage)\n",
    "            content[\"db\"].append(t_name)\n",
    "            title = row[1]\n",
    "            if title is None:\n",
    "                fallback = body[:body.find(\"\\n\")][:80]\n",
    "                fallback = fallback[:fallback.rfind(\" \")]\n",
    "                title = fallback\n",
    "                print(f\"missing title [{info}]: {title}\")\n",
    "            content[\"title\"].append(clean(title))\n",
    "            content[\"text\"].append(body)\n",
    "            lang = get_lang(body)\n",
    "            if lang[\"score\"] < 0.99:\n",
    "                shortened = body[:80]\n",
    "                shortened = shortened[:shortened.rfind(\" \")]\n",
    "                print(f\"low confidence language {lang} [{info}]: {shortened}\")\n",
    "            content[\"lang\"].append(lang[\"language\"])\n",
    "            for cname in ctagnames:\n",
    "                content[cname].append(False)\n",
    "            tstmt = sa.select(t_tagging.c.tag_id)\n",
    "            tstmt = tstmt.where(t_tagging.c.pad == row[0])\n",
    "            for tag in session.execute(tstmt):\n",
    "                cname = ctags.get(tag[0])\n",
    "                if cname is not None:\n",
    "                    content[cname][-1] = True\n",
    "df = pd.DataFrame(content, columns=[\"stage\", \"id\", \"db\", \"country\", \"lang\", \"title\", \"text\"] + sorted(ctagnames))\n",
    "final_tags = []\n",
    "for cname in ctagnames:\n",
    "    if df[cname].all() or not df[cname].any():\n",
    "        print(f\"drop {cname}\")\n",
    "        del df[cname]\n",
    "    else:\n",
    "        final_tags.append(cname)"
   ]
  },
  {
   "cell_type": "code",
   "execution_count": null,
   "id": "2d98cf0b-adff-468b-8fa7-2c1a49a5893a",
   "metadata": {
    "tags": []
   },
   "outputs": [],
   "source": [
    "df"
   ]
  },
  {
   "cell_type": "code",
   "execution_count": null,
   "id": "219e1151-bf06-4391-a337-dd2d4825d143",
   "metadata": {
    "tags": []
   },
   "outputs": [],
   "source": [
    "show_amount = 50\n",
    "for cname in final_tags:\n",
    "    train_cat_count = df.loc[df[\"stage\"] == \"train\", cname].sum()\n",
    "    test_cat_count = df.loc[df[\"stage\"] == \"test\", cname].sum()\n",
    "    validation_cat_count = df.loc[df[\"stage\"] == \"validation\", cname].sum()\n",
    "    text = f\"{train_cat_count} {test_cat_count} {validation_cat_count} {cname}\"\n",
    "    if show_amount > 0:\n",
    "        print(text)\n",
    "        if not test_cat_count:\n",
    "            print(\"^\" * len(text))\n",
    "        show_amount -= 1"
   ]
  },
  {
   "cell_type": "code",
   "execution_count": null,
   "id": "04c7a335-8881-4623-91ca-161c3a192766",
   "metadata": {},
   "outputs": [],
   "source": [
    "df.to_parquet(OUT_FILE)"
   ]
  },
  {
   "cell_type": "code",
   "execution_count": null,
   "id": "cf64d912-c16a-435e-ac66-8d10870862e8",
   "metadata": {},
   "outputs": [],
   "source": []
  }
 ],
 "metadata": {
  "kernelspec": {
   "display_name": "Python [conda env:metal]",
   "language": "python",
   "name": "conda-env-metal-py"
  },
  "language_info": {
   "codemirror_mode": {
    "name": "ipython",
    "version": 3
   },
   "file_extension": ".py",
   "mimetype": "text/x-python",
   "name": "python",
   "nbconvert_exporter": "python",
   "pygments_lexer": "ipython3",
   "version": "3.10.9"
  }
 },
 "nbformat": 4,
 "nbformat_minor": 5
}
